{
 "cells": [
  {
   "cell_type": "code",
   "execution_count": 1,
   "metadata": {},
   "outputs": [],
   "source": [
    "import os\n",
    "import pandas as pd\n",
    "\n",
    "os.chdir(\"../../\")\n",
    "\n",
    "from scripts.llm import get_completion\n",
    "from scripts.utils import *\n",
    "from scripts.data import make_single_question_prompts\n",
    "\n",
    "pd.set_option(\"display.max_colwidth\", 2000)"
   ]
  },
  {
   "cell_type": "code",
   "execution_count": 46,
   "metadata": {},
   "outputs": [
    {
     "name": "stdout",
     "output_type": "stream",
     "text": [
      "data/raw/reasoning/bigbench_date.json has been loaded!\n"
     ]
    },
    {
     "data": {
      "text/plain": [
       "dict_keys(['dataset', 'questions', 'answers', '# samples', '# exemplars', 'exemplars', 'zero_shot_cot_trigger', 'directAnswerTrigger'])"
      ]
     },
     "execution_count": 46,
     "metadata": {},
     "output_type": "execute_result"
    }
   ],
   "source": [
    "data = read_json(\"data/raw/reasoning/bigbench_date.json\")\n",
    "data.keys()"
   ]
  },
  {
   "cell_type": "code",
   "execution_count": 49,
   "metadata": {},
   "outputs": [],
   "source": [
    "os.makedirs(\"results/reasoning/\", exist_ok=True)"
   ]
  },
  {
   "cell_type": "code",
   "execution_count": 54,
   "metadata": {},
   "outputs": [
    {
     "name": "stdout",
     "output_type": "stream",
     "text": [
      "data/raw/reasoning/object_tracking.json has been loaded!\n",
      "data/raw/reasoning/commonsensqa.json has been loaded!\n",
      "data/raw/reasoning/aqua.json has been loaded!\n",
      "data/raw/reasoning/svamp.json has been loaded!\n",
      "data/raw/reasoning/multiarith.json has been loaded!\n",
      "data/raw/reasoning/gsm8k.json has been loaded!\n",
      "data/raw/reasoning/coin_flip.json has been loaded!\n",
      "data/raw/reasoning/singleeq.json has been loaded!\n",
      "data/raw/reasoning/strategyqa.json has been loaded!\n",
      "data/raw/reasoning/addsub.json has been loaded!\n",
      "data/raw/reasoning/last_letters.json has been loaded!\n",
      "data/raw/reasoning/bigbench_date.json has been loaded!\n"
     ]
    }
   ],
   "source": [
    "for d in os.listdir(\"data/raw/reasoning\"):\n",
    "    if not d.endswith(\".json\"):\n",
    "        continue\n",
    "    \n",
    "    data = read_json(f\"data/raw/reasoning/{d}\")\n",
    "    os.makedirs(f\"results/reasoning/{data['dataset']}\", exist_ok=True)\n",
    "    os.makedirs(f\"results/reasoning/{data['dataset']}/single question\", exist_ok=True)\n",
    "\n",
    "    for method in [\"zero-shot\", \"zero-shot-cot\", \"few-shot\", \"few-shot-cot\"]:\n",
    "\n",
    "        if \"object_tracking\" in d and \"few-shot\" in method:\n",
    "            continue \n",
    "\n",
    "        prompts, answers = make_single_question_prompts(data, method=method)\n",
    "        fp = f\"results/reasoning/{data['dataset']}/single question/{method}.csv\"\n",
    "        pd.DataFrame({\"prompt\": prompts, \"answer\": answers}).to_csv(fp, index=False)\n",
    "        "
   ]
  },
  {
   "cell_type": "code",
   "execution_count": null,
   "metadata": {},
   "outputs": [],
   "source": []
  }
 ],
 "metadata": {
  "kernelspec": {
   "display_name": "clustering",
   "language": "python",
   "name": "python3"
  },
  "language_info": {
   "codemirror_mode": {
    "name": "ipython",
    "version": 3
   },
   "file_extension": ".py",
   "mimetype": "text/x-python",
   "name": "python",
   "nbconvert_exporter": "python",
   "pygments_lexer": "ipython3",
   "version": "3.9.17"
  }
 },
 "nbformat": 4,
 "nbformat_minor": 2
}
