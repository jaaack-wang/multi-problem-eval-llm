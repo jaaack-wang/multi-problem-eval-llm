{
 "cells": [
  {
   "cell_type": "code",
   "execution_count": 29,
   "metadata": {},
   "outputs": [],
   "source": [
    "import os\n",
    "os.chdir(\"../../\")\n",
    "\n",
    "import pandas as pd\n",
    "from scripts.utils import *\n",
    "from scripts.data import *"
   ]
  },
  {
   "cell_type": "code",
   "execution_count": 2,
   "metadata": {},
   "outputs": [
    {
     "name": "stdout",
     "output_type": "stream",
     "text": [
      "data/raw/reasoning/object_tracking.json has been loaded!\n",
      "Read object from data/databases/reasoning/object_tracking.pkl\n",
      "data/raw/reasoning/commonsensqa.json has been loaded!\n",
      "Read object from data/databases/reasoning/commonsensqa.pkl\n",
      "data/raw/reasoning/aqua.json has been loaded!\n",
      "Read object from data/databases/reasoning/aqua.pkl\n",
      "data/raw/reasoning/svamp.json has been loaded!\n",
      "Read object from data/databases/reasoning/svamp.pkl\n",
      "data/raw/reasoning/multiarith.json has been loaded!\n",
      "Read object from data/databases/reasoning/multiarith.pkl\n",
      "data/raw/reasoning/gsm8k.json has been loaded!\n",
      "Read object from data/databases/reasoning/gsm8k.pkl\n",
      "data/raw/reasoning/coin_flip.json has been loaded!\n",
      "Read object from data/databases/reasoning/coin_flip.pkl\n",
      "data/raw/reasoning/singleeq.json has been loaded!\n",
      "Read object from data/databases/reasoning/singleeq.pkl\n",
      "data/raw/reasoning/strategyqa.json has been loaded!\n",
      "Read object from data/databases/reasoning/strategyqa.pkl\n",
      "data/raw/reasoning/addsub.json has been loaded!\n",
      "Read object from data/databases/reasoning/addsub.pkl\n",
      "data/raw/reasoning/last_letters.json has been loaded!\n",
      "Read object from data/databases/reasoning/last_letters.pkl\n",
      "data/raw/reasoning/bigbench_date.json has been loaded!\n",
      "Read object from data/databases/reasoning/bigbench_date.pkl\n"
     ]
    }
   ],
   "source": [
    "for d in os.listdir(\"data/raw/reasoning\"):\n",
    "    if not d.endswith(\".json\"):\n",
    "        continue\n",
    "    \n",
    "    data = read_json(f\"data/raw/reasoning/{d}\")\n",
    "    db_fp = f\"data/databases/reasoning/{data['dataset']}.pkl\"\n",
    "\n",
    "    if not os.path.exists(db_fp):\n",
    "        database = convert_reasoning_benchmark_to_database(data)\n",
    "        save_obj_as_pickle(database, db_fp)\n",
    "    else:\n",
    "        database = read_obj_from_pickle(db_fp)\n",
    "    \n",
    "    os.makedirs(f\"results/reasoning/{data['dataset']}\", exist_ok=True)\n",
    "    os.makedirs(f\"results/reasoning/{data['dataset']}/multiple question\", exist_ok=True)\n",
    "\n",
    "    for method in [\"zero-shot\", \"zero-shot-cot\", \"few-shot\", \"few-shot-cot\"]:\n",
    "\n",
    "        if \"object_tracking\" in d and \"few-shot\" in method:\n",
    "            continue \n",
    "        \n",
    "        out = []\n",
    "        for qsize in [2, 5, 10]:\n",
    "            df = make_to_multi_question_prompt_from_database(database, qsize, method, num_instance=300)\n",
    "            out.append(df)\n",
    "        df = pd.concat(out, ignore_index=True)\n",
    "        df.to_json(f\"results/reasoning/{data['dataset']}/multiple question/{method}.json\", orient=\"records\", indent=4)"
   ]
  },
  {
   "cell_type": "code",
   "execution_count": null,
   "metadata": {},
   "outputs": [],
   "source": []
  }
 ],
 "metadata": {
  "kernelspec": {
   "display_name": "clustering",
   "language": "python",
   "name": "python3"
  },
  "language_info": {
   "codemirror_mode": {
    "name": "ipython",
    "version": 3
   },
   "file_extension": ".py",
   "mimetype": "text/x-python",
   "name": "python",
   "nbconvert_exporter": "python",
   "pygments_lexer": "ipython3",
   "version": "3.9.17"
  }
 },
 "nbformat": 4,
 "nbformat_minor": 2
}
